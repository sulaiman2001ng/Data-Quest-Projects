{
 "cells": [
  {
   "cell_type": "markdown",
   "metadata": {},
   "source": [
    "# Guided Project: Analyzing CIA Factbook Data Using SQL"
   ]
  },
  {
   "cell_type": "markdown",
   "metadata": {},
   "source": [
    "In this project, we'll work with data from the **CIA World Factbook**, a compendium of statistics about all of the countries on Earth. The Factbook contains demographic information like:\n",
    "\n",
    "* population - The population as of 2015.\n",
    "* population_growth - The annual population growth rate, as a percentage.\n",
    "* area - The total land and water area.\n",
    "\n",
    "For more details on the the Factbook data check the [here](https://www.cia.gov/the-world-factbook/)\n",
    "\n",
    "In this guided project, we'll use SQL in Jupyter Notebook to explore and analyze data from this database. "
   ]
  },
  {
   "cell_type": "markdown",
   "metadata": {
    "collapsed": true
   },
   "source": [
    "### Installing SQL for Jupyter using conda\n",
    "\n",
    "If you have not installed the SQL for Jupyter"
   ]
  },
  {
   "cell_type": "code",
   "execution_count": 1,
   "metadata": {
    "collapsed": false
   },
   "outputs": [],
   "source": [
    "# !pip install ipython-sql\n",
    "# import sys\n",
    "# !{sys.executable} -m pip install ipython-sql"
   ]
  },
  {
   "cell_type": "code",
   "execution_count": 2,
   "metadata": {
    "collapsed": false
   },
   "outputs": [
    {
     "data": {
      "text/plain": [
       "'Connected: None@factbook.db'"
      ]
     },
     "execution_count": 2,
     "metadata": {},
     "output_type": "execute_result"
    }
   ],
   "source": [
    "%%capture\n",
    "\n",
    "#loading the database\n",
    "%load_ext sql \n",
    "\n",
    " #specifying the path to our database\n",
    "%sql sqlite:///factbook.db"
   ]
  },
  {
   "cell_type": "markdown",
   "metadata": {},
   "source": [
    "## Overview of the table"
   ]
  },
  {
   "cell_type": "code",
   "execution_count": 3,
   "metadata": {
    "collapsed": false
   },
   "outputs": [
    {
     "ename": "SyntaxError",
     "evalue": "invalid syntax (<ipython-input-3-37fb58a1e063>, line 2)",
     "output_type": "error",
     "traceback": [
      "\u001b[1;36m  File \u001b[1;32m\"<ipython-input-3-37fb58a1e063>\"\u001b[1;36m, line \u001b[1;32m2\u001b[0m\n\u001b[1;33m    %%sql\u001b[0m\n\u001b[1;37m    ^\u001b[0m\n\u001b[1;31mSyntaxError\u001b[0m\u001b[1;31m:\u001b[0m invalid syntax\n"
     ]
    }
   ],
   "source": [
    "# Listing the tables in the factbook database\n",
    "%%sql \n",
    "SELECT * \n",
    "  FROM sqlite_master \n",
    " WHERE type='table'"
   ]
  },
  {
   "cell_type": "markdown",
   "metadata": {},
   "source": [
    "We can see that we have only 2 tables in our database\n",
    "* sqlite_sequence\n",
    "* facts\n",
    "<p>We can also the columns in each table and their respective data type</p>\n",
    "\n",
    "We will be working with the **facts** table. <p>Below is the data dictionary for our table</p>:\n",
    "* name - The name of the country in alphabetical order.\n",
    "* area - The total land and sea area of the country in square kilometer.\n",
    "* population - The country's population.\n",
    "* population_growth- The country's population growth as a percentage.\n",
    "* birth_rate - The country's birth rate, or the number of births a year per 1,000 people.\n",
    "* death_rate - The country's death rate, or the number of death a year per 1,000 people.\n",
    "* area- The country's total area (both land and water).\n",
    "* area_land - The country's land area in square kilometers.\n",
    "* area_water - The country's waterarea in square kilometers."
   ]
  },
  {
   "cell_type": "markdown",
   "metadata": {},
   "source": [
    "#### Displaying the first 5 rows of *facts* table"
   ]
  },
  {
   "cell_type": "code",
   "execution_count": 4,
   "metadata": {
    "collapsed": false
   },
   "outputs": [
    {
     "name": "stdout",
     "output_type": "stream",
     "text": [
      "Done.\n"
     ]
    },
    {
     "data": {
      "text/html": [
       "<table>\n",
       "    <tr>\n",
       "        <th>id</th>\n",
       "        <th>code</th>\n",
       "        <th>name</th>\n",
       "        <th>area</th>\n",
       "        <th>area_land</th>\n",
       "        <th>area_water</th>\n",
       "        <th>population</th>\n",
       "        <th>population_growth</th>\n",
       "        <th>birth_rate</th>\n",
       "        <th>death_rate</th>\n",
       "        <th>migration_rate</th>\n",
       "    </tr>\n",
       "    <tr>\n",
       "        <td>1</td>\n",
       "        <td>af</td>\n",
       "        <td>Afghanistan</td>\n",
       "        <td>652230</td>\n",
       "        <td>652230</td>\n",
       "        <td>0</td>\n",
       "        <td>32564342</td>\n",
       "        <td>2.32</td>\n",
       "        <td>38.57</td>\n",
       "        <td>13.89</td>\n",
       "        <td>1.51</td>\n",
       "    </tr>\n",
       "    <tr>\n",
       "        <td>2</td>\n",
       "        <td>al</td>\n",
       "        <td>Albania</td>\n",
       "        <td>28748</td>\n",
       "        <td>27398</td>\n",
       "        <td>1350</td>\n",
       "        <td>3029278</td>\n",
       "        <td>0.3</td>\n",
       "        <td>12.92</td>\n",
       "        <td>6.58</td>\n",
       "        <td>3.3</td>\n",
       "    </tr>\n",
       "    <tr>\n",
       "        <td>3</td>\n",
       "        <td>ag</td>\n",
       "        <td>Algeria</td>\n",
       "        <td>2381741</td>\n",
       "        <td>2381741</td>\n",
       "        <td>0</td>\n",
       "        <td>39542166</td>\n",
       "        <td>1.84</td>\n",
       "        <td>23.67</td>\n",
       "        <td>4.31</td>\n",
       "        <td>0.92</td>\n",
       "    </tr>\n",
       "    <tr>\n",
       "        <td>4</td>\n",
       "        <td>an</td>\n",
       "        <td>Andorra</td>\n",
       "        <td>468</td>\n",
       "        <td>468</td>\n",
       "        <td>0</td>\n",
       "        <td>85580</td>\n",
       "        <td>0.12</td>\n",
       "        <td>8.13</td>\n",
       "        <td>6.96</td>\n",
       "        <td>0.0</td>\n",
       "    </tr>\n",
       "    <tr>\n",
       "        <td>5</td>\n",
       "        <td>ao</td>\n",
       "        <td>Angola</td>\n",
       "        <td>1246700</td>\n",
       "        <td>1246700</td>\n",
       "        <td>0</td>\n",
       "        <td>19625353</td>\n",
       "        <td>2.78</td>\n",
       "        <td>38.78</td>\n",
       "        <td>11.49</td>\n",
       "        <td>0.46</td>\n",
       "    </tr>\n",
       "</table>"
      ],
      "text/plain": [
       "[(1, 'af', 'Afghanistan', 652230, 652230, 0, 32564342, 2.32, 38.57, 13.89, 1.51),\n",
       " (2, 'al', 'Albania', 28748, 27398, 1350, 3029278, 0.3, 12.92, 6.58, 3.3),\n",
       " (3, 'ag', 'Algeria', 2381741, 2381741, 0, 39542166, 1.84, 23.67, 4.31, 0.92),\n",
       " (4, 'an', 'Andorra', 468, 468, 0, 85580, 0.12, 8.13, 6.96, 0.0),\n",
       " (5, 'ao', 'Angola', 1246700, 1246700, 0, 19625353, 2.78, 38.78, 11.49, 0.46)]"
      ]
     },
     "execution_count": 4,
     "metadata": {},
     "output_type": "execute_result"
    }
   ],
   "source": [
    "%%sql \n",
    "SELECT * \n",
    "  FROM facts \n",
    " LIMIT 5;"
   ]
  },
  {
   "cell_type": "markdown",
   "metadata": {},
   "source": [
    "## Summary Statistics\n",
    "\n",
    "Here we are looking for the following:\n",
    "* Minimum population\n",
    "* Maximum population\n",
    "* Minimum population growth\n",
    "* Maximum population growth"
   ]
  },
  {
   "cell_type": "code",
   "execution_count": null,
   "metadata": {
    "collapsed": false
   },
   "outputs": [],
   "source": [
    "%%sql \n",
    "SELECT printf(\"%,d\", MIN(population)) AS 'Min population', \n",
    "       printf(\"%,d\", MAX(population)) AS 'Max. population', \n",
    "       MIN(population_growth) AS 'Min pop. growth', \n",
    "       MAX(population_growth) AS 'Max pop. growth' \n",
    " FROM facts;"
   ]
  },
  {
   "cell_type": "markdown",
   "metadata": {},
   "source": [
    "We can see a very interesting output where a country has a population of zero. Also the maximum population of 7,256,490,011 (i.e about 7.2 billion!). All these call for further investigations.\n",
    "\n",
    "So let's check which country(ies) has population of zero"
   ]
  },
  {
   "cell_type": "code",
   "execution_count": null,
   "metadata": {
    "collapsed": false
   },
   "outputs": [],
   "source": [
    "%%sql\n",
    "SELECT * \n",
    "  FROM facts\n",
    " WHERE population = 0"
   ]
  },
  {
   "cell_type": "markdown",
   "metadata": {
    "collapsed": true
   },
   "source": [
    "## Exploring Outiers\n",
    "\n",
    "Alternatively, writing let's use subqueries to know more about the outliers; minimum and maximum population"
   ]
  },
  {
   "cell_type": "markdown",
   "metadata": {},
   "source": [
    "#### Extracting countries with the minimum population"
   ]
  },
  {
   "cell_type": "code",
   "execution_count": null,
   "metadata": {
    "collapsed": false
   },
   "outputs": [],
   "source": [
    "%%sql\n",
    "SELECT name \n",
    "  FROM facts \n",
    " WHERE population = (SELECT MIN(population) \n",
    "                       FROM facts)"
   ]
  },
  {
   "cell_type": "markdown",
   "metadata": {},
   "source": [
    "#### Extracting countries with the maximum population"
   ]
  },
  {
   "cell_type": "code",
   "execution_count": null,
   "metadata": {
    "collapsed": false
   },
   "outputs": [],
   "source": [
    "%%sql\n",
    "SELECT name \n",
    "  FROM facts \n",
    " WHERE population = (SELECT MAX(population) \n",
    "                       FROM facts)"
   ]
  },
  {
   "cell_type": "code",
   "execution_count": null,
   "metadata": {
    "collapsed": false
   },
   "outputs": [],
   "source": [
    "%%sql\n",
    "SELECT * \n",
    "  FROM facts \n",
    " WHERE name = 'Antarctica'"
   ]
  },
  {
   "cell_type": "markdown",
   "metadata": {},
   "source": [
    "The minimum population is 0, this needs further investigation by inspecting the source of the data, [CIA factbook](https://www.cia.gov/library/publications/the-world-factbook/geos/ay.html). So we might need to replace appropriately \n",
    "\n",
    "Also observably, the world being the maximum population shows that this is total population of countries in the world. Thus, this row needs to be excluded."
   ]
  },
  {
   "cell_type": "markdown",
   "metadata": {
    "collapsed": true
   },
   "source": [
    "## Exploring Average Population and Area\n",
    "\n",
    "Recalculating the summary statistics by excluding the row for the whole world.\n",
    "\n",
    "1. Minimum population\n",
    "2. Maximum population\n",
    "3. Minimum population growth\n",
    "4. Maximum population growth"
   ]
  },
  {
   "cell_type": "code",
   "execution_count": null,
   "metadata": {
    "collapsed": false
   },
   "outputs": [],
   "source": [
    "%%sql \n",
    "SELECT  printf(\"%,d\", MIN(population)) AS 'Min population', \n",
    "        printf(\"%,d\", MAX(population)) AS 'Max. population', \n",
    "        MIN(population_growth) AS min_pop_growth, \n",
    "        MAX(population_growth) AS max_pop_growth \n",
    "  FROM facts\n",
    " WHERE name <> 'World'\n",
    "   AND\n",
    "       name <> 'Antarctica';"
   ]
  },
  {
   "cell_type": "code",
   "execution_count": null,
   "metadata": {
    "collapsed": false
   },
   "outputs": [],
   "source": [
    "%%sql\n",
    "SELECT name \n",
    "  FROM facts \n",
    " WHERE population = (SELECT MAX(population) \n",
    "                       FROM facts \n",
    "                      WHERE name <> 'World'\n",
    "                        AND\n",
    "                            name <> 'Antarctica')"
   ]
  },
  {
   "cell_type": "markdown",
   "metadata": {},
   "source": [
    "#### Calculating the average population and area so as to be able to find calculate the densely populated countries"
   ]
  },
  {
   "cell_type": "code",
   "execution_count": null,
   "metadata": {
    "collapsed": false
   },
   "outputs": [],
   "source": [
    "%%sql\n",
    "SELECT AVG(population) AS avg_population, \n",
    "       AVG(area) AS avg_area\n",
    "  FROM facts\n",
    " WHERE name <> 'World'\n",
    "   AND\n",
    "       name <> 'Antarctica'"
   ]
  },
  {
   "cell_type": "markdown",
   "metadata": {},
   "source": [
    "## Finding Densely Populated Countries\n",
    "<p>We will be finding the densely populated countries using the code written in the above cell as a subquery here. That is we are looking for countries whose population is above the average population and the area below the average area</p>"
   ]
  },
  {
   "cell_type": "markdown",
   "metadata": {},
   "source": [
    "###### In order to make the population and area easily readable, we will use thousand separator for the values in those columns"
   ]
  },
  {
   "cell_type": "code",
   "execution_count": null,
   "metadata": {
    "collapsed": false
   },
   "outputs": [],
   "source": [
    "%%sql\n",
    "SELECT * \n",
    "  FROM facts \n",
    " LIMIT 3"
   ]
  },
  {
   "cell_type": "markdown",
   "metadata": {},
   "source": [
    "We will also be calulating the [population density](https://www.internetgeography.net/topics/what-is-population-density/) and sort our outcome by the population density"
   ]
  },
  {
   "cell_type": "code",
   "execution_count": null,
   "metadata": {
    "collapsed": false
   },
   "outputs": [],
   "source": [
    "%%sql\n",
    "SELECT *,  \n",
    "        printf(\"%,d\", population) AS population, \n",
    "        printf(\"%,d\", area) AS area,\n",
    "        population/area as pop_density\n",
    "  FROM facts\n",
    " WHERE population > (SELECT AVG(population) \n",
    "                       FROM facts \n",
    "                      WHERE name <> 'World' \n",
    "                        AND\n",
    "                            name <> 'Antarctica')\n",
    "  AND\n",
    "      area < (SELECT AVG(area) \n",
    "                      FROM facts \n",
    "                     WHERE name <> 'World'\n",
    "                       AND\n",
    "                           name <> 'Antarctica')\n",
    " ORDER BY pop_density DESC;"
   ]
  },
  {
   "cell_type": "markdown",
   "metadata": {},
   "source": [
    "It can be seen that there are 14 countries that densely populated whihch comprises mostly the Southern America and Asia countries. Also an Africa country (Morocco) is also included in this list. Bangladesh is the most densely populated country in the world followed South Korea.\n",
    "\n",
    "It can also be observed these densely populated areas are in Asia"
   ]
  },
  {
   "cell_type": "code",
   "execution_count": null,
   "metadata": {
    "collapsed": false
   },
   "outputs": [],
   "source": [
    "%%sql\n",
    "SELECT * \n",
    "  FROM facts \n",
    " WHERE name = 'Macau'"
   ]
  },
  {
   "cell_type": "markdown",
   "metadata": {},
   "source": [
    "### Country with the highest growth rate"
   ]
  },
  {
   "cell_type": "code",
   "execution_count": null,
   "metadata": {
    "collapsed": false
   },
   "outputs": [],
   "source": [
    "%%sql\n",
    "SELECT * \n",
    "  FROM facts\n",
    " WHERE population_growth = (SELECT MAX(population_growth) \n",
    "                              FROM facts \n",
    "                             WHERE name <> 'World'\n",
    "                               AND\n",
    "                                   name <> 'Antarctica')"
   ]
  },
  {
   "cell_type": "markdown",
   "metadata": {},
   "source": [
    "### Country with highest population"
   ]
  },
  {
   "cell_type": "code",
   "execution_count": null,
   "metadata": {
    "collapsed": false
   },
   "outputs": [],
   "source": [
    "%%sql\n",
    "SELECT * \n",
    "  FROM facts\n",
    " WHERE population = (SELECT MAX(population) \n",
    "                       FROM facts \n",
    "                      WHERE name <> 'World'\n",
    "                        AND\n",
    "                            name <> 'Antarctica')"
   ]
  },
  {
   "cell_type": "markdown",
   "metadata": {},
   "source": [
    "China is the country with most people with a population 1.38 billion"
   ]
  },
  {
   "cell_type": "markdown",
   "metadata": {},
   "source": [
    "South Sudan is the country with the highest growth with  population growth rate of 4.02"
   ]
  },
  {
   "cell_type": "markdown",
   "metadata": {},
   "source": [
    "### Countries with the highest ratios of water to land: Which countries have more water than land?"
   ]
  },
  {
   "cell_type": "code",
   "execution_count": null,
   "metadata": {
    "collapsed": false
   },
   "outputs": [],
   "source": [
    "%%sql\n",
    "SELECT *, \n",
    "        area_water/area_land as water_land_ratio \n",
    "  FROM facts\n",
    " WHERE water_land_ratio > (SELECT AVG(area_water/area_land)\n",
    "                             FROM facts \n",
    "                            WHERE name <> 'World'\n",
    "                              AND\n",
    "                                  name <> 'Antarctica')"
   ]
  },
  {
   "cell_type": "markdown",
   "metadata": {},
   "source": [
    "The countries with the highest water to land ratio are British Indian Ocean Territory"
   ]
  },
  {
   "cell_type": "markdown",
   "metadata": {},
   "source": [
    "### Which countries will add the most people to their population next year?\n",
    "\n",
    "Here we are looking for countries with highest population growth rate"
   ]
  },
  {
   "cell_type": "code",
   "execution_count": null,
   "metadata": {
    "collapsed": false
   },
   "outputs": [],
   "source": [
    "%%sql\n",
    "SELECT *\n",
    "  FROM facts\n",
    " WHERE population_growth > (SELECT AVG(population_growth) \n",
    "                              FROM facts\n",
    "                             WHERE name <> 'World'\n",
    "                               AND\n",
    "                                   name <> 'Antarctica')\n",
    "    ORDER BY population_growth DESC"
   ]
  },
  {
   "cell_type": "markdown",
   "metadata": {},
   "source": [
    "African Countries; **South Sudan, Malawi, Burundi, Niger and Uganda** top the list of countries that will add most people next year"
   ]
  },
  {
   "cell_type": "markdown",
   "metadata": {},
   "source": [
    "### Countries with higher death rate than birth rate"
   ]
  },
  {
   "cell_type": "code",
   "execution_count": null,
   "metadata": {
    "collapsed": false
   },
   "outputs": [],
   "source": [
    "%%sql\n",
    "SELECT * \n",
    "  FROM facts\n",
    " WHERE death_rate > birth_rate\n",
    " ORDER BY death_rate DESC;"
   ]
  },
  {
   "cell_type": "code",
   "execution_count": null,
   "metadata": {
    "collapsed": false
   },
   "outputs": [],
   "source": [
    "%%sql\n",
    "SELECT *, \n",
    "        population/area AS pop_density \n",
    "  FROM facts\n",
    " WHERE pop_density > (SELECT AVG(population/area) FROM facts WHERE name <> 'World')\n",
    " ORDER BY pop_density DESC;"
   ]
  },
  {
   "cell_type": "code",
   "execution_count": null,
   "metadata": {
    "collapsed": true
   },
   "outputs": [],
   "source": []
  }
 ],
 "metadata": {
  "kernelspec": {
   "display_name": "Python 3",
   "language": "python",
   "name": "python3"
  },
  "language_info": {
   "codemirror_mode": {
    "name": "ipython",
    "version": 3
   },
   "file_extension": ".py",
   "mimetype": "text/x-python",
   "name": "python",
   "nbconvert_exporter": "python",
   "pygments_lexer": "ipython3",
   "version": "3.4.3"
  }
 },
 "nbformat": 4,
 "nbformat_minor": 2
}
